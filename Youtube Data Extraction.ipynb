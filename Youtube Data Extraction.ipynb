{
 "cells": [
  {
   "cell_type": "markdown",
   "metadata": {},
   "source": [
    "# Youtube Data Extraction \n",
    "## Task\n",
    "Write a script that extracts YouTube data to analyze the #endsars# trend that rocked the entire world.\n",
    "The script should be able to perform the following:\n",
    "* Filter out channels and playlists.\n",
    "* Get only videos published this year.\n",
    "* Include videos that are between 4 to 20 mins long.\n",
    "* Generic such that the search query can be changed.\n",
    "\n",
    "## Output\n",
    "Store the output into a csv with the filename having the following format: current_timestamp_youtube_data.\n",
    "\n",
    "The following video attributes should be a part of the dataset:\n",
    "* the time video was published\n",
    "* the video id\n",
    "* the title of the video\n",
    "* description\n",
    "* the URL of the video thumbnail\n",
    "* number of views\n",
    "* number of likes\n",
    "* number of dislikes\n",
    "* number of comments\n",
    "\n",
    "Create an additional the column that builds the video URL using the video id.\n"
   ]
  },
  {
   "cell_type": "markdown",
   "metadata": {},
   "source": [
    "## Install packages"
   ]
  },
  {
   "cell_type": "code",
   "execution_count": 1,
   "metadata": {
    "collapsed": true
   },
   "outputs": [
    {
     "name": "stdout",
     "output_type": "stream",
     "text": [
      "Requirement already up-to-date: google-api-python-client in c:\\users\\kingsley\\miniconda3\\envs\\py-3.7\\lib\\site-packages (1.12.8)\n",
      "Requirement already satisfied, skipping upgrade: google-api-core<2dev,>=1.21.0 in c:\\users\\kingsley\\miniconda3\\envs\\py-3.7\\lib\\site-packages (from google-api-python-client) (1.23.0)\n",
      "Requirement already satisfied, skipping upgrade: google-auth-httplib2>=0.0.3 in c:\\users\\kingsley\\miniconda3\\envs\\py-3.7\\lib\\site-packages (from google-api-python-client) (0.0.4)\n",
      "Requirement already satisfied, skipping upgrade: uritemplate<4dev,>=3.0.0 in c:\\users\\kingsley\\miniconda3\\envs\\py-3.7\\lib\\site-packages (from google-api-python-client) (3.0.1)\n",
      "Requirement already satisfied, skipping upgrade: six<2dev,>=1.13.0 in c:\\users\\kingsley\\miniconda3\\envs\\py-3.7\\lib\\site-packages (from google-api-python-client) (1.15.0)\n",
      "Requirement already satisfied, skipping upgrade: google-auth>=1.16.0 in c:\\users\\kingsley\\miniconda3\\envs\\py-3.7\\lib\\site-packages (from google-api-python-client) (1.23.0)\n",
      "Requirement already satisfied, skipping upgrade: httplib2<1dev,>=0.15.0 in c:\\users\\kingsley\\miniconda3\\envs\\py-3.7\\lib\\site-packages (from google-api-python-client) (0.18.1)\n",
      "Requirement already satisfied, skipping upgrade: requests<3.0.0dev,>=2.18.0 in c:\\users\\kingsley\\miniconda3\\envs\\py-3.7\\lib\\site-packages (from google-api-core<2dev,>=1.21.0->google-api-python-client) (2.25.0)\n",
      "Requirement already satisfied, skipping upgrade: protobuf>=3.12.0 in c:\\users\\kingsley\\miniconda3\\envs\\py-3.7\\lib\\site-packages (from google-api-core<2dev,>=1.21.0->google-api-python-client) (3.14.0)\n",
      "Requirement already satisfied, skipping upgrade: pytz in c:\\users\\kingsley\\miniconda3\\envs\\py-3.7\\lib\\site-packages (from google-api-core<2dev,>=1.21.0->google-api-python-client) (2020.1)\n",
      "Requirement already satisfied, skipping upgrade: googleapis-common-protos<2.0dev,>=1.6.0 in c:\\users\\kingsley\\miniconda3\\envs\\py-3.7\\lib\\site-packages (from google-api-core<2dev,>=1.21.0->google-api-python-client) (1.52.0)\n",
      "Requirement already satisfied, skipping upgrade: setuptools>=34.0.0 in c:\\users\\kingsley\\miniconda3\\envs\\py-3.7\\lib\\site-packages (from google-api-core<2dev,>=1.21.0->google-api-python-client) (50.3.1.post20201107)\n",
      "Requirement already satisfied, skipping upgrade: rsa<5,>=3.1.4; python_version >= \"3.5\" in c:\\users\\kingsley\\miniconda3\\envs\\py-3.7\\lib\\site-packages (from google-auth>=1.16.0->google-api-python-client) (4.6)\n",
      "Requirement already satisfied, skipping upgrade: cachetools<5.0,>=2.0.0 in c:\\users\\kingsley\\miniconda3\\envs\\py-3.7\\lib\\site-packages (from google-auth>=1.16.0->google-api-python-client) (4.1.1)\n",
      "Requirement already satisfied, skipping upgrade: pyasn1-modules>=0.2.1 in c:\\users\\kingsley\\miniconda3\\envs\\py-3.7\\lib\\site-packages (from google-auth>=1.16.0->google-api-python-client) (0.2.8)\n",
      "Requirement already satisfied, skipping upgrade: certifi>=2017.4.17 in c:\\users\\kingsley\\miniconda3\\envs\\py-3.7\\lib\\site-packages (from requests<3.0.0dev,>=2.18.0->google-api-core<2dev,>=1.21.0->google-api-python-client) (2020.6.20)\n",
      "Requirement already satisfied, skipping upgrade: idna<3,>=2.5 in c:\\users\\kingsley\\miniconda3\\envs\\py-3.7\\lib\\site-packages (from requests<3.0.0dev,>=2.18.0->google-api-core<2dev,>=1.21.0->google-api-python-client) (2.10)\n",
      "Requirement already satisfied, skipping upgrade: urllib3<1.27,>=1.21.1 in c:\\users\\kingsley\\miniconda3\\envs\\py-3.7\\lib\\site-packages (from requests<3.0.0dev,>=2.18.0->google-api-core<2dev,>=1.21.0->google-api-python-client) (1.26.2)\n",
      "Requirement already satisfied, skipping upgrade: chardet<4,>=3.0.2 in c:\\users\\kingsley\\miniconda3\\envs\\py-3.7\\lib\\site-packages (from requests<3.0.0dev,>=2.18.0->google-api-core<2dev,>=1.21.0->google-api-python-client) (3.0.4)\n",
      "Requirement already satisfied, skipping upgrade: pyasn1>=0.1.3 in c:\\users\\kingsley\\miniconda3\\envs\\py-3.7\\lib\\site-packages (from rsa<5,>=3.1.4; python_version >= \"3.5\"->google-auth>=1.16.0->google-api-python-client) (0.4.8)\n",
      "Collecting package metadata (current_repodata.json): ...working... donePackages installed successfully\n",
      "Solving environment: ...working... done\n",
      "\n",
      "\n",
      "# All requested packages already installed.\n",
      "\n"
     ]
    }
   ],
   "source": [
    "!pip install --upgrade google-api-python-client\n",
    "!conda install pandas"
   ]
  },
  {
   "cell_type": "markdown",
   "metadata": {},
   "source": [
    "## Import packages"
   ]
  },
  {
   "cell_type": "code",
   "execution_count": 12,
   "metadata": {},
   "outputs": [
    {
     "name": "stdout",
     "output_type": "stream",
     "text": [
      "Packages imported successfully.\n"
     ]
    }
   ],
   "source": [
    "import os\n",
    "import csv\n",
    "import json\n",
    "import pandas as pd\n",
    "\n",
    "from googleapiclient.discovery import build\n",
    "\n",
    "print(\"Packages imported successfully.\")"
   ]
  },
  {
   "cell_type": "markdown",
   "metadata": {},
   "source": [
    "## Set API Parameters"
   ]
  },
  {
   "cell_type": "code",
   "execution_count": 13,
   "metadata": {},
   "outputs": [
    {
     "name": "stdout",
     "output_type": "stream",
     "text": [
      "API parameters set successfully.\n"
     ]
    }
   ],
   "source": [
    "api_key = os.environ.get('YOUTUBE_V3_API_KEY')\n",
    "api_service_name = 'youtube'\n",
    "api_version='V3'\n",
    "\n",
    "youtube = build(api_service_name, api_version, developerKey=api_key)\n",
    "\n",
    "print(\"API parameters set successfully.\")"
   ]
  },
  {
   "cell_type": "markdown",
   "metadata": {},
   "source": [
    "## Set Search Request Rate Limit\n",
    "The YouTube Data API uses a quota to ensure that developers use the service as intended. The Rate Limit is used to control the maximum number that can be made. \n",
    "\n",
    "Recommended Max Rate Limit: 5"
   ]
  },
  {
   "cell_type": "code",
   "execution_count": 14,
   "metadata": {},
   "outputs": [
    {
     "name": "stdout",
     "output_type": "stream",
     "text": [
      "Search Rate Limit has been set to 4\n"
     ]
    }
   ],
   "source": [
    "search_rate_limit = 4\n",
    "\n",
    "print(\"Search Rate Limit has been set to {0}.\".format(search_rate_limit))"
   ]
  },
  {
   "cell_type": "markdown",
   "metadata": {},
   "source": [
    "## Make Search Request"
   ]
  },
  {
   "cell_type": "code",
   "execution_count": 15,
   "metadata": {
    "scrolled": true
   },
   "outputs": [
    {
     "name": "stdout",
     "output_type": "stream",
     "text": [
      "Total numer of items: 200\n"
     ]
    }
   ],
   "source": [
    "allItems = []\n",
    "count = 0\n",
    "\n",
    "max_results = 50\n",
    "nextPage_token = None\n",
    "\n",
    "while (count < search_rate_limit) and 1:\n",
    "    searchRequest = youtube.search().list(\n",
    "        part='snippet',\n",
    "        type='video',\n",
    "        q='#endsars',\n",
    "        videoDuration='medium',\n",
    "        publishedAfter='2020-01-01T00:00:00Z',\n",
    "        maxResults=max_results,\n",
    "        pageToken=nextPage_token\n",
    "    )\n",
    "\n",
    "    searchResponse = searchRequest.execute()\n",
    "\n",
    "    allItems += searchResponse['items']\n",
    "\n",
    "    nextPage_token = searchResponse.get('nextPageToken')\n",
    "\n",
    "    count += 1\n",
    "\n",
    "    if nextPage_token is None:\n",
    "        break\n",
    "    \n",
    "print(\"Total numer of items: {0}\".format(len(allItems)))\n",
    "\n",
    "# TODO: Show only success message. Handle Exceptions"
   ]
  },
  {
   "cell_type": "markdown",
   "metadata": {},
   "source": [
    "## Extract videos ids"
   ]
  },
  {
   "cell_type": "code",
   "execution_count": 41,
   "metadata": {
    "tags": []
   },
   "outputs": [
    {
     "name": "stdout",
     "output_type": "stream",
     "text": [
      "200 video IDs was extracted succesfully.\n"
     ]
    }
   ],
   "source": [
    "videosIds = list(map(lambda x:x['id']['videoId'], allItems))\n",
    "\n",
    "print(\"{0} video IDs was extracted succesfully.\".format(len(videosIds)))"
   ]
  },
  {
   "cell_type": "markdown",
   "metadata": {},
   "source": [
    "## Make Videos Request"
   ]
  },
  {
   "cell_type": "code",
   "execution_count": 44,
   "metadata": {},
   "outputs": [
    {
     "name": "stdout",
     "output_type": "stream",
     "text": [
      "Total numer of items: 200\n"
     ]
    }
   ],
   "source": [
    "allVideoItems = []\n",
    "count = 0\n",
    "\n",
    "nextPage_token = None\n",
    "\n",
    "while (count < len(videosIds)) and 1: \n",
    "    videosRequest = youtube.videos().list(\n",
    "        part='snippet, statistics',\n",
    "        id=videosIds[count:count+50],\n",
    "    )\n",
    "\n",
    "    videosResponse = videosRequest.execute()\n",
    "    \n",
    "    allVideoItems += videosResponse['items']\n",
    "    \n",
    "    count+=50\n",
    "    \n",
    "print(\"Total numer of items: {0}\".format(len(allVideoItems)))\n",
    "\n",
    "# TODO: Show only success message. Handle Exceptions"
   ]
  },
  {
   "cell_type": "code",
   "execution_count": 47,
   "metadata": {},
   "outputs": [
    {
     "ename": "KeyError",
     "evalue": "'url'",
     "output_type": "error",
     "traceback": [
      "\u001b[1;31m---------------------------------------------------------------------------\u001b[0m",
      "\u001b[1;31mKeyError\u001b[0m                                  Traceback (most recent call last)",
      "\u001b[1;32m<ipython-input-47-afad63119d4b>\u001b[0m in \u001b[0;36m<module>\u001b[1;34m\u001b[0m\n\u001b[0;32m     14\u001b[0m     \u001b[0mvideo_desc\u001b[0m\u001b[1;33m.\u001b[0m\u001b[0mappend\u001b[0m\u001b[1;33m(\u001b[0m\u001b[0mi\u001b[0m\u001b[1;33m[\u001b[0m\u001b[1;34m'snippet'\u001b[0m\u001b[1;33m]\u001b[0m\u001b[1;33m[\u001b[0m\u001b[1;34m'description'\u001b[0m\u001b[1;33m]\u001b[0m\u001b[1;33m)\u001b[0m\u001b[1;33m\u001b[0m\u001b[1;33m\u001b[0m\u001b[0m\n\u001b[0;32m     15\u001b[0m     \u001b[0mtime_published\u001b[0m\u001b[1;33m.\u001b[0m\u001b[0mappend\u001b[0m\u001b[1;33m(\u001b[0m\u001b[0mi\u001b[0m\u001b[1;33m[\u001b[0m\u001b[1;34m'snippet'\u001b[0m\u001b[1;33m]\u001b[0m\u001b[1;33m[\u001b[0m\u001b[1;34m'publishedAt'\u001b[0m\u001b[1;33m]\u001b[0m\u001b[1;33m)\u001b[0m\u001b[1;33m\u001b[0m\u001b[1;33m\u001b[0m\u001b[0m\n\u001b[1;32m---> 16\u001b[1;33m     \u001b[0mthumbnail_url\u001b[0m\u001b[1;33m.\u001b[0m\u001b[0mappend\u001b[0m\u001b[1;33m(\u001b[0m\u001b[0mi\u001b[0m\u001b[1;33m[\u001b[0m\u001b[1;34m'snippet'\u001b[0m\u001b[1;33m]\u001b[0m\u001b[1;33m[\u001b[0m\u001b[1;34m'thumbnails'\u001b[0m\u001b[1;33m]\u001b[0m\u001b[1;33m[\u001b[0m\u001b[1;34m'url'\u001b[0m\u001b[1;33m]\u001b[0m\u001b[1;33m)\u001b[0m\u001b[1;33m\u001b[0m\u001b[1;33m\u001b[0m\u001b[0m\n\u001b[0m\u001b[0;32m     17\u001b[0m     \u001b[0mviews_count\u001b[0m\u001b[1;33m.\u001b[0m\u001b[0mappend\u001b[0m\u001b[1;33m(\u001b[0m\u001b[0mi\u001b[0m\u001b[1;33m[\u001b[0m\u001b[1;34m'statistics'\u001b[0m\u001b[1;33m]\u001b[0m\u001b[1;33m[\u001b[0m\u001b[1;34m'viewCount'\u001b[0m\u001b[1;33m]\u001b[0m\u001b[1;33m)\u001b[0m\u001b[1;33m\u001b[0m\u001b[1;33m\u001b[0m\u001b[0m\n\u001b[0;32m     18\u001b[0m     \u001b[0mlikes_count\u001b[0m\u001b[1;33m.\u001b[0m\u001b[0mappend\u001b[0m\u001b[1;33m(\u001b[0m\u001b[0mi\u001b[0m\u001b[1;33m[\u001b[0m\u001b[1;34m'statistics'\u001b[0m\u001b[1;33m]\u001b[0m\u001b[1;33m[\u001b[0m\u001b[1;34m'likeCount'\u001b[0m\u001b[1;33m]\u001b[0m\u001b[1;33m)\u001b[0m\u001b[1;33m\u001b[0m\u001b[1;33m\u001b[0m\u001b[0m\n",
      "\u001b[1;31mKeyError\u001b[0m: 'url'"
     ]
    }
   ],
   "source": [
    "video_id = []\n",
    "video_title = []\n",
    "video_desc = []\n",
    "time_published = []\n",
    "thumbnail_url = []\n",
    "views_count = []\n",
    "likes_count = []\n",
    "dislike_count = []\n",
    "comments_count = []\n",
    "\n",
    "for i in allVideoItems:\n",
    "    video_id.append(i['id'])\n",
    "    video_title.append(i['snippet']['title'])\n",
    "    video_desc.append(i['snippet']['description'])\n",
    "    time_published.append(i['snippet']['publishedAt'])\n",
    "    \n",
    "    \n",
    "    thumbnail_url.append(i['snippet']['thumbnails']['url'])\n",
    "    views_count.append(i['statistics']['viewCount'])\n",
    "    likes_count.append(i['statistics']['likeCount'])\n",
    "    dislike_count.append(i['statistics']['dislikeCount'])\n",
    "    comments_count.append(i['statistics']['commentCount'])\n",
    "\n",
    "len(video_id)"
   ]
  },
  {
   "cell_type": "code",
   "execution_count": null,
   "metadata": {},
   "outputs": [],
   "source": []
  }
 ],
 "metadata": {
  "kernelspec": {
   "display_name": "Python 3",
   "language": "python",
   "name": "python3"
  },
  "language_info": {
   "codemirror_mode": {
    "name": "ipython",
    "version": 3
   },
   "file_extension": ".py",
   "mimetype": "text/x-python",
   "name": "python",
   "nbconvert_exporter": "python",
   "pygments_lexer": "ipython3",
   "version": "3.7.9"
  }
 },
 "nbformat": 4,
 "nbformat_minor": 4
}
