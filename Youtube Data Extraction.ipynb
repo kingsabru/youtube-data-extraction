{
 "cells": [
  {
   "cell_type": "markdown",
   "metadata": {},
   "source": [
    "# Youtube Data Extraction \n",
    "## Task\n",
    "Write a script that extracts YouTube data to analyze the #endsars# trend that rocked the entire world.\n",
    "The script should be able to perform the following:\n",
    "* Filter out channels and playlists.\n",
    "* Get only videos published this year.\n",
    "* Include videos that are between 4 to 20 mins long.\n",
    "* Generic such that the search query can be changed.\n",
    "\n",
    "## Output\n",
    "Store the output into a csv with the filename having the following format: current_timestamp_youtube_data.\n",
    "\n",
    "The following video attributes should be a part of the dataset:\n",
    "* the time video was published\n",
    "* the video id\n",
    "* the title of the video\n",
    "* description\n",
    "* the URL of the video thumbnail\n",
    "* number of views\n",
    "* number of likes\n",
    "* number of dislikes\n",
    "* number of comments\n",
    "\n",
    "Create an additional the column that builds the video URL using the video id.\n"
   ]
  },
  {
   "cell_type": "markdown",
   "metadata": {},
   "source": [
    "## Install packages\n",
    "Install packages if not existing in your environment"
   ]
  },
  {
   "cell_type": "code",
   "execution_count": null,
   "metadata": {
    "collapsed": true
   },
   "outputs": [
    {
     "name": "stdout",
     "output_type": "stream",
     "text": [
      "Requirement already up-to-date: google-api-python-client in c:\\users\\kingsley\\miniconda3\\envs\\py-3.7\\lib\\site-packages (1.12.8)\n",
      "Requirement already satisfied, skipping upgrade: six<2dev,>=1.13.0 in c:\\users\\kingsley\\miniconda3\\envs\\py-3.7\\lib\\site-packages (from google-api-python-client) (1.15.0)\n",
      "Requirement already satisfied, skipping upgrade: uritemplate<4dev,>=3.0.0 in c:\\users\\kingsley\\miniconda3\\envs\\py-3.7\\lib\\site-packages (from google-api-python-client) (3.0.1)\n",
      "Requirement already satisfied, skipping upgrade: google-api-core<2dev,>=1.21.0 in c:\\users\\kingsley\\miniconda3\\envs\\py-3.7\\lib\\site-packages (from google-api-python-client) (1.23.0)\n",
      "Requirement already satisfied, skipping upgrade: httplib2<1dev,>=0.15.0 in c:\\users\\kingsley\\miniconda3\\envs\\py-3.7\\lib\\site-packages (from google-api-python-client) (0.18.1)\n",
      "Requirement already satisfied, skipping upgrade: google-auth-httplib2>=0.0.3 in c:\\users\\kingsley\\miniconda3\\envs\\py-3.7\\lib\\site-packages (from google-api-python-client) (0.0.4)\n",
      "Requirement already satisfied, skipping upgrade: google-auth>=1.16.0 in c:\\users\\kingsley\\miniconda3\\envs\\py-3.7\\lib\\site-packages (from google-api-python-client) (1.23.0)\n",
      "Requirement already satisfied, skipping upgrade: pytz in c:\\users\\kingsley\\miniconda3\\envs\\py-3.7\\lib\\site-packages (from google-api-core<2dev,>=1.21.0->google-api-python-client) (2020.4)\n",
      "Requirement already satisfied, skipping upgrade: requests<3.0.0dev,>=2.18.0 in c:\\users\\kingsley\\miniconda3\\envs\\py-3.7\\lib\\site-packages (from google-api-core<2dev,>=1.21.0->google-api-python-client) (2.25.0)\n",
      "Requirement already satisfied, skipping upgrade: setuptools>=34.0.0 in c:\\users\\kingsley\\miniconda3\\envs\\py-3.7\\lib\\site-packages (from google-api-core<2dev,>=1.21.0->google-api-python-client) (50.3.1.post20201107)\n",
      "Requirement already satisfied, skipping upgrade: googleapis-common-protos<2.0dev,>=1.6.0 in c:\\users\\kingsley\\miniconda3\\envs\\py-3.7\\lib\\site-packages (from google-api-core<2dev,>=1.21.0->google-api-python-client) (1.52.0)\n",
      "Requirement already satisfied, skipping upgrade: protobuf>=3.12.0 in c:\\users\\kingsley\\miniconda3\\envs\\py-3.7\\lib\\site-packages (from google-api-core<2dev,>=1.21.0->google-api-python-client) (3.14.0)\n",
      "Requirement already satisfied, skipping upgrade: pyasn1-modules>=0.2.1 in c:\\users\\kingsley\\miniconda3\\envs\\py-3.7\\lib\\site-packages (from google-auth>=1.16.0->google-api-python-client) (0.2.8)\n",
      "Requirement already satisfied, skipping upgrade: rsa<5,>=3.1.4; python_version >= \"3.5\" in c:\\users\\kingsley\\miniconda3\\envs\\py-3.7\\lib\\site-packages (from google-auth>=1.16.0->google-api-python-client) (4.6)\n",
      "Requirement already satisfied, skipping upgrade: cachetools<5.0,>=2.0.0 in c:\\users\\kingsley\\miniconda3\\envs\\py-3.7\\lib\\site-packages (from google-auth>=1.16.0->google-api-python-client) (4.1.1)\n",
      "Requirement already satisfied, skipping upgrade: idna<3,>=2.5 in c:\\users\\kingsley\\miniconda3\\envs\\py-3.7\\lib\\site-packages (from requests<3.0.0dev,>=2.18.0->google-api-core<2dev,>=1.21.0->google-api-python-client) (2.10)\n",
      "Requirement already satisfied, skipping upgrade: chardet<4,>=3.0.2 in c:\\users\\kingsley\\miniconda3\\envs\\py-3.7\\lib\\site-packages (from requests<3.0.0dev,>=2.18.0->google-api-core<2dev,>=1.21.0->google-api-python-client) (3.0.4)\n",
      "Requirement already satisfied, skipping upgrade: urllib3<1.27,>=1.21.1 in c:\\users\\kingsley\\miniconda3\\envs\\py-3.7\\lib\\site-packages (from requests<3.0.0dev,>=2.18.0->google-api-core<2dev,>=1.21.0->google-api-python-client) (1.26.2)\n",
      "Requirement already satisfied, skipping upgrade: certifi>=2017.4.17 in c:\\users\\kingsley\\miniconda3\\envs\\py-3.7\\lib\\site-packages (from requests<3.0.0dev,>=2.18.0->google-api-core<2dev,>=1.21.0->google-api-python-client) (2020.11.8)\n",
      "Requirement already satisfied, skipping upgrade: pyasn1<0.5.0,>=0.4.6 in c:\\users\\kingsley\\miniconda3\\envs\\py-3.7\\lib\\site-packages (from pyasn1-modules>=0.2.1->google-auth>=1.16.0->google-api-python-client) (0.4.8)\n"
     ]
    }
   ],
   "source": [
    "!pip install --upgrade google-api-python-client\n",
    "!conda install pandas"
   ]
  },
  {
   "cell_type": "markdown",
   "metadata": {},
   "source": [
    "## Import packages"
   ]
  },
  {
   "cell_type": "code",
   "execution_count": 2,
   "metadata": {},
   "outputs": [
    {
     "name": "stdout",
     "output_type": "stream",
     "text": [
      "Packages imported successfully.\n"
     ]
    }
   ],
   "source": [
    "import os\n",
    "import csv\n",
    "import json\n",
    "\n",
    "from googleapiclient.discovery import build\n",
    "\n",
    "print(\"Packages imported successfully.\")"
   ]
  },
  {
   "cell_type": "markdown",
   "metadata": {},
   "source": [
    "## Set API Parameters"
   ]
  },
  {
   "cell_type": "code",
   "execution_count": 3,
   "metadata": {},
   "outputs": [
    {
     "name": "stdout",
     "output_type": "stream",
     "text": [
      "API parameters set successfully.\n"
     ]
    }
   ],
   "source": [
    "api_key = os.environ.get('YOUTUBE_V3_API_KEY')\n",
    "api_version='V3'\n",
    "\n",
    "youtube = build('youtube', api_version, developerKey=api_key)\n",
    "\n",
    "print(\"API parameters set successfully.\")"
   ]
  },
  {
   "cell_type": "markdown",
   "metadata": {},
   "source": [
    "## Set Search Request Rate Limit\n",
    "The YouTube Data API uses a quota to ensure that developers use the service as intended. The Rate Limit is used to control the maximum number that can be made. \n",
    "\n",
    "Recommended Max Rate Limit: 5"
   ]
  },
  {
   "cell_type": "code",
   "execution_count": 4,
   "metadata": {},
   "outputs": [
    {
     "name": "stdout",
     "output_type": "stream",
     "text": [
      "Search Rate Limit has been set to 5.\n"
     ]
    }
   ],
   "source": [
    "search_rate_limit = 5\n",
    "\n",
    "print(\"Search Rate Limit has been set to {0}.\".format(search_rate_limit))"
   ]
  },
  {
   "cell_type": "markdown",
   "metadata": {},
   "source": [
    "## Make Search Request"
   ]
  },
  {
   "cell_type": "code",
   "execution_count": 5,
   "metadata": {
    "scrolled": true
   },
   "outputs": [
    {
     "name": "stdout",
     "output_type": "stream",
     "text": [
      "Total numer of items: 250\n"
     ]
    }
   ],
   "source": [
    "allItems = []\n",
    "count = 0\n",
    "\n",
    "query = '#endsars'\n",
    "max_results = 50\n",
    "nextPage_token = None\n",
    "\n",
    "while (count < search_rate_limit) and 1:\n",
    "    searchRequest = youtube.search().list(\n",
    "        part='snippet',\n",
    "        type='video',\n",
    "        q=query,\n",
    "        videoDuration='medium',\n",
    "        publishedAfter='2020-01-01T00:00:00Z',\n",
    "        maxResults=max_results,\n",
    "        pageToken=nextPage_token\n",
    "    )\n",
    "\n",
    "    searchResponse = searchRequest.execute()\n",
    "\n",
    "    allItems += searchResponse['items']\n",
    "\n",
    "    nextPage_token = searchResponse.get('nextPageToken')\n",
    "\n",
    "    count += 1\n",
    "\n",
    "    if nextPage_token is None:\n",
    "        break\n",
    "    \n",
    "print(\"Total numer of items: {0}\".format(len(allItems)))\n",
    "\n",
    "# TODO: Show only success message. Handle Exceptions"
   ]
  },
  {
   "cell_type": "markdown",
   "metadata": {},
   "source": [
    "## Extract videos ids"
   ]
  },
  {
   "cell_type": "code",
   "execution_count": 6,
   "metadata": {
    "tags": []
   },
   "outputs": [
    {
     "name": "stdout",
     "output_type": "stream",
     "text": [
      "250 video IDs was extracted succesfully.\n"
     ]
    }
   ],
   "source": [
    "videosIds = list(map(lambda x:x['id']['videoId'], allItems))\n",
    "\n",
    "print(\"{0} video IDs was extracted succesfully.\".format(len(videosIds)))"
   ]
  },
  {
   "cell_type": "markdown",
   "metadata": {},
   "source": [
    "## Make Videos Request"
   ]
  },
  {
   "cell_type": "code",
   "execution_count": 7,
   "metadata": {},
   "outputs": [
    {
     "name": "stdout",
     "output_type": "stream",
     "text": [
      "Total numer of items: 250\n"
     ]
    }
   ],
   "source": [
    "allVideoItems = []\n",
    "count = 0\n",
    "\n",
    "nextPage_token = None\n",
    "\n",
    "while (count < len(videosIds)) and 1: \n",
    "    videosRequest = youtube.videos().list(\n",
    "        part='snippet, statistics',\n",
    "        id=\",\".join(videosIds[count:count+50]),\n",
    "    )\n",
    "\n",
    "    videosResponse = videosRequest.execute()\n",
    "    \n",
    "    allVideoItems += videosResponse['items']\n",
    "    \n",
    "    count+=50\n",
    "    \n",
    "print(\"Total numer of items: {0}\".format(len(allVideoItems)))\n",
    "\n",
    "# TODO: Show only success message. Handle Exceptions"
   ]
  },
  {
   "cell_type": "code",
   "execution_count": 11,
   "metadata": {
    "scrolled": false
   },
   "outputs": [
    {
     "name": "stdout",
     "output_type": "stream",
     "text": [
      "Data extracted successfully.\n"
     ]
    }
   ],
   "source": [
    "video_id = []\n",
    "video_title = []\n",
    "video_desc = []\n",
    "time_published = []\n",
    "thumbnail_url = []\n",
    "view_count = []\n",
    "like_count = []\n",
    "dislike_count = []\n",
    "comments_count = []\n",
    "video_url = []\n",
    "\n",
    "for i in allVideoItems:\n",
    "    video_id.append(i['id'])\n",
    "    video_title.append(i['snippet']['title'])\n",
    "    video_desc.append(i['snippet']['description'])\n",
    "    time_published.append(i['snippet']['publishedAt'])  \n",
    "    thumbnail_url.append(i['snippet']['thumbnails']['default']['url'])\n",
    "    \n",
    "    view_count.append(i['statistics'].get('viewCount'))\n",
    "    like_count.append(i['statistics'].get('likeCount'))\n",
    "    dislike_count.append(i['statistics'].get('dislikeCount'))\n",
    "    comments_count.append(i['statistics'].get('commentCount'))\n",
    "    \n",
    "    video_url.append(\"https://www.youtube.com/watch?v=\" + i['id'])\n",
    "\n",
    "print(\"Data extracted successfully.\")\n",
    "\n",
    "# TODO: Handle nonType being assigned instead of number or string"
   ]
  },
  {
   "cell_type": "code",
   "execution_count": 12,
   "metadata": {},
   "outputs": [
    {
     "data": {
      "text/html": [
       "<div>\n",
       "<style scoped>\n",
       "    .dataframe tbody tr th:only-of-type {\n",
       "        vertical-align: middle;\n",
       "    }\n",
       "\n",
       "    .dataframe tbody tr th {\n",
       "        vertical-align: top;\n",
       "    }\n",
       "\n",
       "    .dataframe thead th {\n",
       "        text-align: right;\n",
       "    }\n",
       "</style>\n",
       "<table border=\"1\" class=\"dataframe\">\n",
       "  <thead>\n",
       "    <tr style=\"text-align: right;\">\n",
       "      <th></th>\n",
       "      <th>videoId</th>\n",
       "      <th>tltle</th>\n",
       "      <th>description</th>\n",
       "      <th>timePublished</th>\n",
       "      <th>thumnailUrl</th>\n",
       "      <th>views</th>\n",
       "      <th>likes</th>\n",
       "      <th>dislikes</th>\n",
       "      <th>comments</th>\n",
       "      <th>videoUrl</th>\n",
       "    </tr>\n",
       "  </thead>\n",
       "  <tbody>\n",
       "    <tr>\n",
       "      <th>0</th>\n",
       "      <td>2m8tiFokS78</td>\n",
       "      <td>#ENDSARS: The Nigerian footballers protesting ...</td>\n",
       "      <td>#ENDSARS: The Nigerian footballers protesting ...</td>\n",
       "      <td>2020-11-11T07:00:01Z</td>\n",
       "      <td>https://i.ytimg.com/vi/2m8tiFokS78/default.jpg</td>\n",
       "      <td>26605</td>\n",
       "      <td>2343</td>\n",
       "      <td>28</td>\n",
       "      <td>297</td>\n",
       "      <td>https://www.youtube.com/watch?v=2m8tiFokS78</td>\n",
       "    </tr>\n",
       "    <tr>\n",
       "      <th>1</th>\n",
       "      <td>DTFofOXS5PU</td>\n",
       "      <td>Why are Nigerians protesting? The #EndSARS mov...</td>\n",
       "      <td>Amid mounting pressure from residents and an o...</td>\n",
       "      <td>2020-11-12T16:00:01Z</td>\n",
       "      <td>https://i.ytimg.com/vi/DTFofOXS5PU/default.jpg</td>\n",
       "      <td>2484</td>\n",
       "      <td>41</td>\n",
       "      <td>5</td>\n",
       "      <td>4</td>\n",
       "      <td>https://www.youtube.com/watch?v=DTFofOXS5PU</td>\n",
       "    </tr>\n",
       "    <tr>\n",
       "      <th>2</th>\n",
       "      <td>qHr-wa6sFpw</td>\n",
       "      <td>What is the #EndSars movement in Nigeria? | #T...</td>\n",
       "      <td>The #EndSars hashtag has been trending for wee...</td>\n",
       "      <td>2020-10-27T12:04:00Z</td>\n",
       "      <td>https://i.ytimg.com/vi/qHr-wa6sFpw/default.jpg</td>\n",
       "      <td>2681</td>\n",
       "      <td>48</td>\n",
       "      <td>2</td>\n",
       "      <td>2</td>\n",
       "      <td>https://www.youtube.com/watch?v=qHr-wa6sFpw</td>\n",
       "    </tr>\n",
       "    <tr>\n",
       "      <th>3</th>\n",
       "      <td>Il5qL7YbawY</td>\n",
       "      <td>End Sars protests: People 'shot dead' in Lagos...</td>\n",
       "      <td>A number of people taking part in a protest ag...</td>\n",
       "      <td>2020-10-21T12:47:05Z</td>\n",
       "      <td>https://i.ytimg.com/vi/Il5qL7YbawY/default.jpg</td>\n",
       "      <td>199928</td>\n",
       "      <td>2905</td>\n",
       "      <td>173</td>\n",
       "      <td>1177</td>\n",
       "      <td>https://www.youtube.com/watch?v=Il5qL7YbawY</td>\n",
       "    </tr>\n",
       "    <tr>\n",
       "      <th>4</th>\n",
       "      <td>0MwlFIPy0OI</td>\n",
       "      <td>Police brutality in Nigeria: what is the #EndS...</td>\n",
       "      <td>After days of fierce protests, Nigeria's gover...</td>\n",
       "      <td>2020-10-13T19:40:33Z</td>\n",
       "      <td>https://i.ytimg.com/vi/0MwlFIPy0OI/default.jpg</td>\n",
       "      <td>53570</td>\n",
       "      <td>571</td>\n",
       "      <td>14</td>\n",
       "      <td>50</td>\n",
       "      <td>https://www.youtube.com/watch?v=0MwlFIPy0OI</td>\n",
       "    </tr>\n",
       "  </tbody>\n",
       "</table>\n",
       "</div>"
      ],
      "text/plain": [
       "       videoId                                              tltle  \\\n",
       "0  2m8tiFokS78  #ENDSARS: The Nigerian footballers protesting ...   \n",
       "1  DTFofOXS5PU  Why are Nigerians protesting? The #EndSARS mov...   \n",
       "2  qHr-wa6sFpw  What is the #EndSars movement in Nigeria? | #T...   \n",
       "3  Il5qL7YbawY  End Sars protests: People 'shot dead' in Lagos...   \n",
       "4  0MwlFIPy0OI  Police brutality in Nigeria: what is the #EndS...   \n",
       "\n",
       "                                         description         timePublished  \\\n",
       "0  #ENDSARS: The Nigerian footballers protesting ...  2020-11-11T07:00:01Z   \n",
       "1  Amid mounting pressure from residents and an o...  2020-11-12T16:00:01Z   \n",
       "2  The #EndSars hashtag has been trending for wee...  2020-10-27T12:04:00Z   \n",
       "3  A number of people taking part in a protest ag...  2020-10-21T12:47:05Z   \n",
       "4  After days of fierce protests, Nigeria's gover...  2020-10-13T19:40:33Z   \n",
       "\n",
       "                                      thumnailUrl   views likes dislikes  \\\n",
       "0  https://i.ytimg.com/vi/2m8tiFokS78/default.jpg   26605  2343       28   \n",
       "1  https://i.ytimg.com/vi/DTFofOXS5PU/default.jpg    2484    41        5   \n",
       "2  https://i.ytimg.com/vi/qHr-wa6sFpw/default.jpg    2681    48        2   \n",
       "3  https://i.ytimg.com/vi/Il5qL7YbawY/default.jpg  199928  2905      173   \n",
       "4  https://i.ytimg.com/vi/0MwlFIPy0OI/default.jpg   53570   571       14   \n",
       "\n",
       "  comments                                     videoUrl  \n",
       "0      297  https://www.youtube.com/watch?v=2m8tiFokS78  \n",
       "1        4  https://www.youtube.com/watch?v=DTFofOXS5PU  \n",
       "2        2  https://www.youtube.com/watch?v=qHr-wa6sFpw  \n",
       "3     1177  https://www.youtube.com/watch?v=Il5qL7YbawY  \n",
       "4       50  https://www.youtube.com/watch?v=0MwlFIPy0OI  "
      ]
     },
     "execution_count": 12,
     "metadata": {},
     "output_type": "execute_result"
    }
   ],
   "source": [
    "import pandas as pd\n",
    "\n",
    "data = {\n",
    "    'videoId': video_id,\n",
    "    'tltle': video_title,\n",
    "    'description': video_desc,\n",
    "    'timePublished': time_published,\n",
    "    'thumnailUrl': thumbnail_url,\n",
    "    'views': view_count,\n",
    "    'likes': like_count,\n",
    "    'dislikes': dislike_count,\n",
    "    'comments': comments_count,\n",
    "    'videoUrl': video_url\n",
    "}\n",
    "\n",
    "df = pd.DataFrame(data)\n",
    "\n",
    "df.head()"
   ]
  },
  {
   "cell_type": "markdown",
   "metadata": {},
   "source": [
    "## Store data to file using current timestamp"
   ]
  },
  {
   "cell_type": "code",
   "execution_count": 13,
   "metadata": {},
   "outputs": [
    {
     "name": "stdout",
     "output_type": "stream",
     "text": [
      "File created successfully. File name is 20201125-111217_youtube_data.csv\n"
     ]
    }
   ],
   "source": [
    "import time\n",
    "\n",
    "current_timestamp = time.strftime(\"%Y%m%d-%H%M%S\")\n",
    "file_name = current_timestamp+\"_youtube_data.csv\"\n",
    "df.to_csv(file_name, index=False)\n",
    "\n",
    "print(\"File created successfully. File name is {0}\".format(file_name))\n",
    "# TODO: Handle Error exceptions"
   ]
  }
 ],
 "metadata": {
  "kernelspec": {
   "display_name": "Python 3",
   "language": "python",
   "name": "python3"
  },
  "language_info": {
   "codemirror_mode": {
    "name": "ipython",
    "version": 3
   },
   "file_extension": ".py",
   "mimetype": "text/x-python",
   "name": "python",
   "nbconvert_exporter": "python",
   "pygments_lexer": "ipython3",
   "version": "3.7.9"
  }
 },
 "nbformat": 4,
 "nbformat_minor": 4
}
