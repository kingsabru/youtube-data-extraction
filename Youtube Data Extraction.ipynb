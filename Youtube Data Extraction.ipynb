{
 "cells": [
  {
   "cell_type": "markdown",
   "metadata": {},
   "source": [
    "# Youtube Data Extraction \n",
    "## Task\n",
    "Write a script that extracts YouTube data to analyze the #endsars# trend that rocked the entire world.\n",
    "The script should be able to perform the following:\n",
    "* Filter out channels and playlists.\n",
    "* Get only videos published this year.\n",
    "* Include videos that are between 4 to 20 mins long.\n",
    "* Generic such that the search query can be changed.\n",
    "\n",
    "## Output\n",
    "Store the output into a csv with the filename having the following format: current_timestamp_youtube_data.\n",
    "\n",
    "The following video attributes should be a part of the dataset:\n",
    "* the time video was published\n",
    "* the video id\n",
    "* the title of the video\n",
    "* description\n",
    "* the URL of the video thumbnail\n",
    "* number of views\n",
    "* number of likes\n",
    "* number of dislikes\n",
    "* number of comments\n",
    "\n",
    "Create an additional the column that builds the video URL using the video id.\n"
   ]
  },
  {
   "cell_type": "markdown",
   "metadata": {},
   "source": [
    "## Install packages\n",
    "Install packages if not existing in your environment"
   ]
  },
  {
   "cell_type": "code",
   "execution_count": null,
   "metadata": {},
   "outputs": [],
   "source": [
    "!pip install --upgrade google-api-python-client\n",
    "\n",
    "!pip install python-decouple"
   ]
  },
  {
   "cell_type": "markdown",
   "metadata": {},
   "source": [
    "## Import packages"
   ]
  },
  {
   "cell_type": "code",
   "execution_count": null,
   "metadata": {},
   "outputs": [],
   "source": [
    "import os\n",
    "import csv\n",
    "import json\n",
    "from decouple import config\n",
    "\n",
    "from googleapiclient.discovery import build\n",
    "\n",
    "print(\"Packages imported successfully.\")"
   ]
  },
  {
   "cell_type": "markdown",
   "metadata": {},
   "source": [
    "## Set API Parameters"
   ]
  },
  {
   "cell_type": "code",
   "execution_count": null,
   "metadata": {},
   "outputs": [],
   "source": [
    "api_key = config('API-KEY')\n",
    "\n",
    "youtube = build('youtube', 'V3', developerKey=api_key)\n",
    "\n",
    "print(\"API parameters set successfully.\")"
   ]
  },
  {
   "cell_type": "markdown",
   "metadata": {},
   "source": [
    "## Set Search Request Rate Limit\n",
    "The YouTube Data API uses a quota to ensure that developers use the service as intended. The Rate Limit is used to control the maximum number that can be made. \n",
    "\n",
    "Recommended Max Rate Limit: 5"
   ]
  },
  {
   "cell_type": "code",
   "execution_count": null,
   "metadata": {},
   "outputs": [],
   "source": [
    "search_rate_limit = 5\n",
    "\n",
    "print(\"Search Rate Limit has been set to {0}.\".format(search_rate_limit))"
   ]
  },
  {
   "cell_type": "markdown",
   "metadata": {},
   "source": [
    "## Make Search Request"
   ]
  },
  {
   "cell_type": "code",
   "execution_count": null,
   "metadata": {
    "scrolled": true
   },
   "outputs": [],
   "source": [
    "allItems = []\n",
    "count = 0\n",
    "\n",
    "query = '#endsars'\n",
    "max_results = 50\n",
    "nextPage_token = None\n",
    "\n",
    "while (count < search_rate_limit) and 1:\n",
    "    searchRequest = youtube.search().list(\n",
    "        part='snippet',\n",
    "        type='video',\n",
    "        q=query,\n",
    "        videoDuration='medium',\n",
    "        publishedAfter='2020-01-01T00:00:00Z',\n",
    "        maxResults=max_results,\n",
    "        pageToken=nextPage_token\n",
    "    )\n",
    "\n",
    "    searchResponse = searchRequest.execute()\n",
    "\n",
    "    allItems += searchResponse['items']\n",
    "\n",
    "    nextPage_token = searchResponse.get('nextPageToken')\n",
    "\n",
    "    count += 1\n",
    "\n",
    "    if nextPage_token is None:\n",
    "        break\n",
    "    \n",
    "print(\"Total numer of items: {0}\".format(len(allItems)))\n",
    "\n",
    "# TODO: \n",
    "# 1. Show only success message. Handle Exceptions\n",
    "# 2. Place code into function"
   ]
  },
  {
   "cell_type": "markdown",
   "metadata": {},
   "source": [
    "## Extract videos ids"
   ]
  },
  {
   "cell_type": "code",
   "execution_count": null,
   "metadata": {
    "tags": []
   },
   "outputs": [],
   "source": [
    "videosIds = list(map(lambda x:x['id']['videoId'], allItems))\n",
    "\n",
    "print(\"{0} video IDs was extracted succesfully.\".format(len(videosIds)))"
   ]
  },
  {
   "cell_type": "markdown",
   "metadata": {},
   "source": [
    "## Make Videos Request"
   ]
  },
  {
   "cell_type": "code",
   "execution_count": null,
   "metadata": {},
   "outputs": [],
   "source": [
    "allVideoItems = []\n",
    "count = 0\n",
    "\n",
    "nextPage_token = None\n",
    "\n",
    "while (count < len(videosIds)) and 1: \n",
    "    videosRequest = youtube.videos().list(\n",
    "        part='snippet, statistics',\n",
    "        id=\",\".join(videosIds[count:count+50]),\n",
    "    )\n",
    "\n",
    "    videosResponse = videosRequest.execute()\n",
    "    \n",
    "    allVideoItems += videosResponse['items']\n",
    "    \n",
    "    count+=50\n",
    "    \n",
    "print(\"Total numer of items: {0}\".format(len(allVideoItems)))\n",
    "\n",
    "# TODO: Show only success message. Handle Exceptions"
   ]
  },
  {
   "cell_type": "code",
   "execution_count": null,
   "metadata": {
    "scrolled": false
   },
   "outputs": [],
   "source": [
    "video_id = []\n",
    "video_title = []\n",
    "video_desc = []\n",
    "time_published = []\n",
    "thumbnail_url = []\n",
    "view_count = []\n",
    "like_count = []\n",
    "dislike_count = []\n",
    "comments_count = []\n",
    "video_url = []\n",
    "\n",
    "for i in allVideoItems:\n",
    "    video_id.append(i['id'])\n",
    "    video_title.append(i['snippet']['title'])\n",
    "    video_desc.append(i['snippet']['description'])\n",
    "    time_published.append(i['snippet']['publishedAt'])  \n",
    "    thumbnail_url.append(i['snippet']['thumbnails']['default']['url'])\n",
    "    \n",
    "    view_count.append(i['statistics'].get('viewCount'))\n",
    "    like_count.append(i['statistics'].get('likeCount'))\n",
    "    dislike_count.append(i['statistics'].get('dislikeCount'))\n",
    "    comments_count.append(i['statistics'].get('commentCount'))\n",
    "    \n",
    "    video_url.append(\"https://www.youtube.com/watch?v=\" + i['id'])\n",
    "\n",
    "print(\"Data extracted successfully.\")\n",
    "\n",
    "# TODO: Handle nonType being assigned instead of number or string"
   ]
  },
  {
   "cell_type": "code",
   "execution_count": null,
   "metadata": {},
   "outputs": [],
   "source": [
    "import pandas as pd\n",
    "\n",
    "data = {\n",
    "    'videoId': video_id,\n",
    "    'tltle': video_title,\n",
    "    'description': video_desc,\n",
    "    'timePublished': time_published,\n",
    "    'thumnailUrl': thumbnail_url,\n",
    "    'views': view_count,\n",
    "    'likes': like_count,\n",
    "    'dislikes': dislike_count,\n",
    "    'comments': comments_count,\n",
    "    'videoUrl': video_url\n",
    "}\n",
    "\n",
    "df = pd.DataFrame(data)\n",
    "\n",
    "df.head()"
   ]
  },
  {
   "cell_type": "markdown",
   "metadata": {},
   "source": [
    "## Store data to file using current timestamp"
   ]
  },
  {
   "cell_type": "code",
   "execution_count": null,
   "metadata": {},
   "outputs": [],
   "source": [
    "import time\n",
    "\n",
    "def save_to_csv(df):\n",
    "    path = os.getcwd() + '\\data\\\\'\n",
    "    current_timestamp = time.strftime(\"%y%m%d_%H%M%S\")\n",
    "\n",
    "    if not os.path.exists(path):\n",
    "        os.mkdir(path)\n",
    "\n",
    "    file_name = current_timestamp+\"_youtube_data.csv\"\n",
    "    \n",
    "    full_path = os.path.join(path, file_name)\n",
    "    \n",
    "    df.to_csv(full_path, index=False)\n",
    "    \n",
    "    return full_path\n",
    "\n",
    "# TODO: Handle Error exceptions"
   ]
  },
  {
   "cell_type": "code",
   "execution_count": null,
   "metadata": {},
   "outputs": [],
   "source": [
    "path = save_to_csv(df)\n",
    "print(\"File created successfully. File save to: {0}\".format(path))"
   ]
  }
 ],
 "metadata": {
  "kernelspec": {
   "display_name": "Python 3",
   "language": "python",
   "name": "python3"
  },
  "language_info": {
   "codemirror_mode": {
    "name": "ipython",
    "version": 3
   },
   "file_extension": ".py",
   "mimetype": "text/x-python",
   "name": "python",
   "nbconvert_exporter": "python",
   "pygments_lexer": "ipython3",
   "version": "3.7.9"
  }
 },
 "nbformat": 4,
 "nbformat_minor": 4
}
